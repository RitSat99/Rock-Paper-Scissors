{
 "cells": [
  {
   "cell_type": "code",
   "execution_count": 1,
   "metadata": {},
   "outputs": [],
   "source": [
    "import random"
   ]
  },
  {
   "cell_type": "code",
   "execution_count": 2,
   "metadata": {},
   "outputs": [],
   "source": [
    "# list of possible moves by computer and player\n",
    "moves=['Rock','Paper','Scissors']"
   ]
  },
  {
   "cell_type": "code",
   "execution_count": 3,
   "metadata": {},
   "outputs": [],
   "source": [
    "# setting the default player and computer scores '0'\n",
    "plwin=0\n",
    "aiwin=0"
   ]
  },
  {
   "cell_type": "code",
   "execution_count": 4,
   "metadata": {},
   "outputs": [
    {
     "name": "stdout",
     "output_type": "stream",
     "text": [
      "Welcome to ENDLESS Rock Paper Scissors!!\n",
      "You can enter 'Quit' to quit the game :P\n",
      "READY? Play your move!! Rock, Paper or Scissors? r\n",
      "Your Move: Rock\n",
      "Computer plays: Paper\n",
      "SIGH!! you LOSE\n",
      "You: 0 vs Computer: 1\n",
      "READY? Play your move!! Rock, Paper or Scissors? r\n",
      "Your Move: Rock\n",
      "Computer plays: Rock\n",
      "It's a TIE\n",
      "You: 0 vs Computer: 1\n",
      "READY? Play your move!! Rock, Paper or Scissors? r\n",
      "Your Move: Rock\n",
      "Computer plays: Rock\n",
      "It's a TIE\n",
      "You: 0 vs Computer: 1\n",
      "READY? Play your move!! Rock, Paper or Scissors? r\n",
      "Your Move: Rock\n",
      "Computer plays: Scissors\n",
      "YAY!! it's a WIN\n",
      "You: 1 vs Computer: 1\n",
      "READY? Play your move!! Rock, Paper or Scissors? r\n",
      "Your Move: Rock\n",
      "Computer plays: Scissors\n",
      "YAY!! it's a WIN\n",
      "You: 2 vs Computer: 1\n",
      "READY? Play your move!! Rock, Paper or Scissors? q\n",
      "Thanks for playing, This was brought to you by Ritwik Satpathy\n"
     ]
    }
   ],
   "source": [
    "# gameplay logic\n",
    "print('Welcome to ENDLESS Rock Paper Scissors!!')\n",
    "print(\"You can enter 'Quit' to quit the game :P\")\n",
    "\n",
    "while True:\n",
    "\n",
    "\tplayermove=input(\"READY? Play your move!! Rock, Paper or Scissors? \")\n",
    "\tif playermove.lower()[0]=='r':\n",
    "\t\tplayermove='Rock'\n",
    "\t\tprint(f'Your Move: {playermove}')\n",
    "\tif playermove.lower()[0]=='p':\n",
    "\t\tplayermove='Paper'\n",
    "\t\tprint(f'Your Move: {playermove}')\n",
    "\tif playermove.lower()[0]=='s':\n",
    "\t\tplayermove='Scissors'\n",
    "\t\tprint(f'Your Move: {playermove}')\n",
    "\tif playermove.lower()[0]=='q':\n",
    "\t\tprint('Thanks for playing, This was brought to you by Ritwik Satpathy')\n",
    "\t\tbreak\n",
    "\n",
    "\t\n",
    "\n",
    "\tai_choice=random.choice(moves)\n",
    "\tprint(f'Computer plays: {ai_choice}')\n",
    "\n",
    "\tif playermove==ai_choice:\n",
    "\t\tprint(\"It's a TIE\")\n",
    "\tif playermove=='Rock' and ai_choice=='Paper':\n",
    "\t\tprint(\"SIGH!! you LOSE\")\n",
    "\t\taiwin+=1\n",
    "\tif playermove=='Rock' and ai_choice=='Scissors':\n",
    "\t\tprint(\"YAY!! it's a WIN\")\n",
    "\t\tplwin+=1\n",
    "\tif playermove=='Paper' and ai_choice=='Rock':\n",
    "\t\tprint(\"YAY!! it's a WIN\")\n",
    "\t\tplwin+=1\n",
    "\tif playermove=='Paper' and ai_choice=='Scissors':\n",
    "\t\tprint(\"SIGH!! you LOSE\")\n",
    "\t\taiwin+=1\n",
    "\tif playermove=='Scissors' and ai_choice=='Rock':\n",
    "\t\tprint(\"SIGH!! you LOSE\")\n",
    "\t\taiwin+=1\n",
    "\tif playermove=='Scissors' and ai_choice=='Paper':\n",
    "\t\tprint(\"YAY!! it's a WIN\")\n",
    "\t\tplwin+=1\n",
    "\n",
    "\tprint(f'You: {plwin} vs Computer: {aiwin}')\n",
    "\n",
    "\n",
    "# Ritwik Satpathy"
   ]
  },
  {
   "cell_type": "code",
   "execution_count": null,
   "metadata": {},
   "outputs": [],
   "source": []
  }
 ],
 "metadata": {
  "kernelspec": {
   "display_name": "Python 3",
   "language": "python",
   "name": "python3"
  },
  "language_info": {
   "codemirror_mode": {
    "name": "ipython",
    "version": 3
   },
   "file_extension": ".py",
   "mimetype": "text/x-python",
   "name": "python",
   "nbconvert_exporter": "python",
   "pygments_lexer": "ipython3",
   "version": "3.7.6"
  }
 },
 "nbformat": 4,
 "nbformat_minor": 4
}
